{
 "cells": [
  {
   "cell_type": "code",
   "execution_count": 2,
   "id": "f75afb96",
   "metadata": {},
   "outputs": [],
   "source": [
    "import fitz\n",
    "\n",
    "def read_pdf(file_path):\n",
    "    file = fitz.open(file_path)\n",
    "    text = \"\"\n",
    "    for page in file:\n",
    "        text += page.get_text(\"text\")\n",
    "    return text\n"
   ]
  },
  {
   "cell_type": "code",
   "execution_count": 3,
   "id": "95fdaabb",
   "metadata": {},
   "outputs": [],
   "source": [
    "from docx import Document\n",
    "\n",
    "def read_doc(file_path):\n",
    "    file = Document(file_path)\n",
    "    text = \"\"\n",
    "    for para in file.paragraphs:\n",
    "        text += para.text + \"\\n\"\n",
    "    return text"
   ]
  },
  {
   "cell_type": "code",
   "execution_count": 4,
   "id": "1d6dba6e",
   "metadata": {},
   "outputs": [],
   "source": [
    "from email import message_from_binary_file\n",
    "\n",
    "def read_email(file_path):\n",
    "    with open(file_path, \"rb\") as f:\n",
    "        msg = message_from_binary_file(f)\n",
    "    \n",
    "    subject = msg.get(\"subject: \",\"\")\n",
    "    body = \"\"\n",
    "    if msg.is_multipart():\n",
    "        for part in msg.walk():\n",
    "            content_type = part.get_content_type()\n",
    "            if content_type == \"text/plain\":\n",
    "                body += part.get_payload(decode=True).decode(errors=\"ignore\")\n",
    "    else:\n",
    "        body = msg.get_payload(decode = True).decode(errors = \"ignore\")\n",
    "    \n",
    "    text = f\"Subject: {subject} \\n \\n {body}\"\n",
    "    return text\n",
    "    "
   ]
  },
  {
   "cell_type": "code",
   "execution_count": 5,
   "id": "3c816817",
   "metadata": {},
   "outputs": [],
   "source": [
    "# Cleaning Text\n",
    "import re\n",
    "\n",
    "def clean_text(text):\n",
    "    text = re.sub(r'\\s+',' ',text)\n",
    "    return text.strip()\n"
   ]
  },
  {
   "cell_type": "code",
   "execution_count": 6,
   "id": "f7b30e03",
   "metadata": {},
   "outputs": [],
   "source": [
    "from langchain_text_splitters import RecursiveCharacterTextSplitter # pip install lanchain\n",
    "\n",
    "def chunk_text(cl_text):\n",
    "    text_splitter = RecursiveCharacterTextSplitter(\n",
    "        chunk_size=1000,      \n",
    "        chunk_overlap=100,    \n",
    "        separators=[\"\\n\\n\", \"\\n\", \".\", \" \"]\n",
    "    )\n",
    "    \n",
    "    chunks = text_splitter.split_text(cl_text)\n",
    "    return chunks"
   ]
  },
  {
   "cell_type": "code",
   "execution_count": 7,
   "id": "3e8b00a6",
   "metadata": {},
   "outputs": [],
   "source": [
    "import os\n",
    "\n",
    "file_path = \"file/EDLHLGA23009V012223.pdf\"\n",
    "file_type = os.path.splitext(file_path)[1].lower()\n",
    "file_name = os.path.splitext(os.path.basename(file_path))[0]\n",
    "\n",
    "if file_type == \".pdf\":\n",
    "    text = read_pdf(file_path)\n",
    "\n",
    "elif file_type == \".doc\":\n",
    "    text = read_doc(file_path)\n",
    "    cl_text = clean_text(text)\n",
    "\n",
    "elif file_type == \".eml\":\n",
    "    text = read_email(file_path)\n",
    "    cl_text = clean_text(text)\n",
    "\n",
    "else:\n",
    "    print(f\"Invalid File Type \\nOnly take pdf, doc and eml as file input\")\n",
    "\n",
    "cl_text = clean_text(text)\n",
    "ch_text = chunk_text(cl_text)\n",
    "\n"
   ]
  },
  {
   "cell_type": "code",
   "execution_count": 8,
   "id": "2cd576a4",
   "metadata": {},
   "outputs": [
    {
     "name": "stderr",
     "output_type": "stream",
     "text": [
      "c:\\Users\\Rakschit\\AppData\\Local\\Programs\\Python\\Python313\\Lib\\site-packages\\torch\\nn\\modules\\module.py:1762: FutureWarning: `encoder_attention_mask` is deprecated and will be removed in version 4.55.0 for `BertSdpaSelfAttention.forward`.\n",
      "  return forward_call(*args, **kwargs)\n"
     ]
    }
   ],
   "source": [
    "from sentence_transformers import SentenceTransformer\n",
    "from sklearn.preprocessing import normalize\n",
    "import faiss\n",
    "import numpy as np\n",
    "import pickle\n",
    "\n",
    "chunks = ch_text\n",
    "model = SentenceTransformer(\"all-MiniLM-L6-v2\")\n",
    "embeddings = model.encode(chunks, convert_to_numpy=True)\n",
    "embeddings = normalize(embeddings)\n",
    "\n",
    "dimension = embeddings.shape[1]\n",
    "index = faiss.IndexFlatIP(dimension)\n",
    "index = faiss.IndexIDMap(index)\n",
    "\n",
    "ids = np.arange(len(embeddings))\n",
    "index.add_with_ids(embeddings, ids)\n",
    "\n",
    "faiss.write_index(index, f\"indexes/{file_name}vector.index\")\n",
    "\n",
    "with open(f\"pickle/{file_name}chunks.pkl\", \"wb\") as f:\n",
    "    pickle.dump(ch_text, f)"
   ]
  },
  {
   "cell_type": "code",
   "execution_count": 9,
   "id": "111d439a",
   "metadata": {},
   "outputs": [],
   "source": [
    "import faiss\n",
    "import pickle\n",
    "\n",
    "# Load index\n",
    "index = faiss.read_index( f\"indexes/{file_name}vector.index\")\n",
    "\n",
    "# Load chunks\n",
    "with open(f\"pickle/{file_name}chunks.pkl\", \"rb\") as f:\n",
    "    chunks = pickle.load(f)\n"
   ]
  },
  {
   "cell_type": "code",
   "execution_count": null,
   "id": "c69a27df",
   "metadata": {},
   "outputs": [
    {
     "name": "stderr",
     "output_type": "stream",
     "text": [
      "c:\\Users\\Rakschit\\AppData\\Local\\Programs\\Python\\Python313\\Lib\\site-packages\\torch\\nn\\modules\\module.py:1762: FutureWarning: `encoder_attention_mask` is deprecated and will be removed in version 4.55.0 for `BertSdpaSelfAttention.forward`.\n",
      "  return forward_call(*args, **kwargs)\n"
     ]
    }
   ],
   "source": [
    "from sentence_transformers import SentenceTransformer\n",
    "import faiss, pickle\n",
    "import subprocess\n",
    "\n",
    "embed_model = SentenceTransformer('all-MiniLM-L6-v2')\n",
    "\n",
    "query = \"knee query in Pune 3 months old policy\"\n",
    "query_embedding = embed_model.encode([query], convert_to_numpy=True)\n",
    "distances, indices = index.search(query_embedding, 3)\n",
    "relevant_clauses = [chunks[i] for i in indices[0]]\n",
    "\n",
    "\n",
    "context = \"\\n\\n\".join(relevant_clauses)\n",
    "prompt = f\"\"\"\n",
    "\n",
    "User query:\n",
    "{query}\n",
    "\n",
    "Relevant clauses:\n",
    "{context}\n",
    "\n",
    "Follow these steps:\n",
    "1. Extract details from the query: age, gender, procedure, location, policy duration.\n",
    "2. Decide whether the claim is approved or rejected.\n",
    "3. Justify the decision with references to specific clauses.\n",
    "4. Return JSON with fields: decision, amount (if any), justification, used_clauses.\n",
    "\"\"\"\n",
    "\n",
    "result = subprocess.run(\n",
    "    [\"ollama\", \"run\", \"mistral\", prompt],\n",
    "    capture_output=True,\n",
    "    text=True\n",
    ")\n",
    "\n",
    "output = result.stdout.strip()\n",
    "\n",
    "print(\"LLM Output:\\n\", output)\n"
   ]
  },
  {
   "cell_type": "code",
   "execution_count": 10,
   "id": "7c9b6e40",
   "metadata": {},
   "outputs": [
    {
     "name": "stderr",
     "output_type": "stream",
     "text": [
      "c:\\Users\\Rakschit\\AppData\\Local\\Programs\\Python\\Python313\\Lib\\site-packages\\torch\\nn\\modules\\module.py:1762: FutureWarning: `encoder_attention_mask` is deprecated and will be removed in version 4.55.0 for `BertSdpaSelfAttention.forward`.\n",
      "  return forward_call(*args, **kwargs)\n"
     ]
    },
    {
     "name": "stdout",
     "output_type": "stream",
     "text": [
      "LLM Output:\n",
      " {\n",
      "  \"decision\": \"Not Approved\",\n",
      "  \"justification\": \"The query does not specify the age and gender of the insured individual. However, based on the policy description provided, it is a maternity or well-mother insurance for female expectant mothers or those who have delivered a newborn baby. The procedure mentioned in the query is 'knee query' which is not related to routine medical care provided as per the policy. Moreover, the policy excludes any charges payable under the maternity section (if opted as an optional cover) of the policy, which includes knee-related treatments as it falls under the category of infertility treatments or any other treatment not directly related to maternity or well-baby care. Lastly, the query mentions a 3-months old policy, but the policy does not cover routine medical care after the first discharge from the hospital (30 days following birth of new born baby).\",\n",
      "  \"used_clauses\": [\"Insurance is the subject matter of solicitation\", \". Routine Medical Care would include expenses recommended by a doctor and incurred on – Pharmacy, Diagnostics, Doctor Consultations and Therapy.\", \". We will not cover 1. Any infertility treatments\"]\n",
      "}\n"
     ]
    }
   ],
   "source": [
    "from sentence_transformers import SentenceTransformer\n",
    "import faiss, pickle\n",
    "import requests\n",
    "import json\n",
    "\n",
    "# Load your embedding model\n",
    "embed_model = SentenceTransformer('all-MiniLM-L6-v2')\n",
    "\n",
    "# Example query\n",
    "query = \"knee query in Pune 3 months old policy\"\n",
    "\n",
    "# Create query embedding\n",
    "query_embedding = embed_model.encode([query], convert_to_numpy=True)\n",
    "\n",
    "# Search top 5 chunks\n",
    "distances, indices = index.search(query_embedding, 5)\n",
    "relevant_clauses = [chunks[i] for i in indices[0]]\n",
    "\n",
    "# Build prompt\n",
    "context = \"\\n\\n\".join(relevant_clauses)\n",
    "prompt = f\"\"\"\n",
    "User query:\n",
    "{query}\n",
    "\n",
    "Relevant clauses:\n",
    "{context}\n",
    "\n",
    "Follow these steps:\n",
    "1. Extract details from the query: age, gender, procedure, location, policy duration.\n",
    "2. Decide whether the claim is approved or rejected.\n",
    "3. Justify the decision with references to specific clauses.\n",
    "4. Return JSON with fields: decision, amount (if any), justification, used_clauses.\n",
    "\"\"\"\n",
    "\n",
    "# Call Ollama API\n",
    "url = \"http://localhost:11434/api/generate\"\n",
    "payload = {\"model\": \"mistral\", \"prompt\": prompt, \"stream\": False}\n",
    "\n",
    "response = requests.post(url, json=payload)\n",
    "\n",
    "# Parse and print output\n",
    "result = response.json()\n",
    "output = result.get(\"response\", \"\").strip()\n",
    "print(\"LLM Output:\\n\", output)\n"
   ]
  },
  {
   "cell_type": "code",
   "execution_count": 71,
   "id": "f1c2cdcf",
   "metadata": {},
   "outputs": [
    {
     "name": "stdout",
     "output_type": "stream",
     "text": [
      "Well Baby Well Mother- Add On Wordings Add On Wordings- Well Baby Well Mother Base Product UIN: EDLHLGP21462V032021 Add On UIN: EDLHLGA23009V012223 Edelweiss General Insurance Company Limited, Corporate Office: 5th Floor, Tower 3, Kohinoor City Mall, Kohinoor City, Kirol Road, Kurla (West), Mumbai - 400 070, Registered Office: Edelweiss House, Off CST Road, Kalina, Mumbai -400 098, IRDAI Regn. No.: 159, CIN: U66000MH2016PLC273758, Reach us on: 1800 12000, Email: support@edelweissinsurance.com, Website: www.edelweissinsurance.com, Issuing/Corporate Office: +91 22 4272 2200, Grievance Redressal Officer: +91 22 4931 4422, Dedicated Toll-Free Number for Grievance: 1800 120 216216. Trade logo displayed above belongs to Edelweiss Financial Services Limited and is used by Edelweiss General Insurance Company Limited under license. Insurance is the subject matter of solicitation. Air Ambulance Cover In consideration of the payment of additional premium to Us, We will cover the expenses incurred on air ambulance services in respect of an Insured Person which are offered by a healthcare or an air ambulance service provider and which have been used during the Policy Period to transfer the Insured Person to a Hospital or transfer from one hospital to another with adequate emergency facilities for the provision of Emergency Care, provided that: i. Our maximum liability under this Benefit for any and all claims arising during the Policy Year will be restricted to the Sum insured as stated in the Policy Schedule; ii. The maximum distance of travel undertaken is 150 kms. In case of distance travelled is more than 150 kms, proportionate amount of expenses upto 150 kms shall be payable. Example: If insured has travelled a distance of 300kms using an air ambulance we will pay 50% of the total cost or Sum Insured whichever is lower. (Eligibility/Actual distance travelled : 150kms/300kms = 0.5) iii. It is for a life threatening emergency health condition/s of the Insured Person which requires immediate and rapid ambulance transportation from the place where the Insured Person is situated at the time of requiring Emergency Care to a hospital provided that the transportation is for Medically Necessary Treatment, is certified in writing by a Medical Practitioner, and road ambulance services cannot be provided. iv. Such air ambulance providing the services, should be duly licensed to operate as such by a competent government Authority. v. This cover is limited to transportation from the area of emergency to a Hospital providing emergency care which is not available at the place of origin and from one medical centre to another. ; We will not cover: a. Transfer of the Insured Person from one medical facility to another medical facility of similar capabilities which provides a similar level of care. b. Any transportation of the Insured Person from Hospital to the Insured Person’s residence after he/she has been discharged from the Hospital c. Any transportation or air ambulance expenses incurred outside the geographical scope of India. d. Attempt at suicide e. Injuries resulting from participation in acts of war or insurrection f. commission of unlawful acts g. Incidents involving use of drugs unless prescribed by a medical practitioner h. We have accepted a claim under Section II.A.1 in respect of the Insured Person for the same Accident/Illness for which air ambulance services were availed. i. We shall not be liable if Medically Necessary Treatment can be provided at the Hospital where the Insured Person is situated at the time of requiring Emergency Care. Claims towards Air Ambulance expenses will be payable by mode of Reimbursement only Well Baby Well Mother- Add On Wordings Add On Wordings- Well Baby Well Mother Base Product UIN: EDLHLGP21462V032021 Add On UIN: EDLHLGA23009V012223 Edelweiss General Insurance Company Limited, Corporate Office: 5th Floor, Tower 3, Kohinoor City Mall, Kohinoor City, Kirol Road, Kurla (West), Mumbai - 400 070, Registered Office: Edelweiss House, Off CST Road, Kalina, Mumbai -400 098, IRDAI Regn. No.: 159, CIN: U66000MH2016PLC273758, Reach us on: 1800 12000, Email: support@edelweissinsurance.com, Website: www.edelweissinsurance.com, Issuing/Corporate Office: +91 22 4272 2200, Grievance Redressal Officer: +91 22 4931 4422, Dedicated Toll-Free Number for Grievance: 1800 120 216216. Trade logo displayed above belongs to Edelweiss Financial Services Limited and is used by Edelweiss General Insurance Company Limited under license. Insurance is the subject matter of solicitation. Well mother Cover Covers routine medical care provided to an insured female (expectant mothers and mothers who have delivered new born baby), which includes routine preventive care services and immunizations (within the maternity hospitalization period), during the period as opted by insured and specified in the policy schedule • Routine Medical Care would include expenses recommended by a doctor and incurred on – Pharmacy, Diagnostics, Doctor Consultations and Therapy. • Routine Preventive Care Services will include expenses recommended by a doctor and incurred on – Pharmacy and Diagnostic Tests. The insured shall have option to opt for this cover for any one of the below mentioned period: i) At the onset of pregnancy and up to pre-hospitalization period for maternity. ii) At the onset of pregnancy and maternity hospitalization (only routine preventive care services and immunizations) up to first discharge from hospital. iii) At the onset of pregnancy, maternity hospitalization (only routine preventive care services and immunizations) and until 30 days following birth of new born baby. We will not cover 1. Any infertility treatments 2. Any charges payable under the maternity section (if opted as an optional cover) of the policy Healthy baby expenses / well baby care expenses Cover for expenses incurred for a New born baby after the birth until first discharge from hospital. Covers routine medical care provided to a new born baby, which includes limited to appropriate customary examinations required to assess the integrity and basic functions of child’s organs and skeletal structure carried out immediately following birth, routine preventive care services and immunizations (within the hospitalization period). The sum insured limit shall be as opted for and specified in the policy schedule. For multiple born babies sum insured shall be subject to limit in place. Routine Preventive Care Services will include expenses recommended by a doctor and incurred on – Pharmacy and Diagnostic Tests.\n"
     ]
    }
   ],
   "source": [
    "print(cl_text)"
   ]
  },
  {
   "cell_type": "code",
   "execution_count": 51,
   "id": "892dde50",
   "metadata": {},
   "outputs": [
    {
     "name": "stdout",
     "output_type": "stream",
     "text": [
      "Length: 8\n",
      "Chunk 0: Well Baby Well Mother- Add On Wordings Add On Wordings- Well Baby Well Mother Base Product UIN: EDLHLGP21462V032021 Add On UIN: EDLHLGA23009V012223 Edelweiss General Insurance Company Limited, Corporate Office: 5th Floor, Tower 3, Kohinoor City Mall, Kohinoor City, Kirol Road, Kurla (West), Mumbai - 400 070, Registered Office: Edelweiss House, Off CST Road, Kalina, Mumbai -400 098, IRDAI Regn. No.: 159, CIN: U66000MH2016PLC273758, Reach us on: 1800 12000, Email: support@edelweissinsurance.com, Website: www.edelweissinsurance.com, Issuing/Corporate Office: +91 22 4272 2200, Grievance Redressal Officer: +91 22 4931 4422, Dedicated Toll-Free Number for Grievance: 1800 120 216216. Trade logo displayed above belongs to Edelweiss Financial Services Limited and is used by Edelweiss General Insurance Company Limited under license. Insurance is the subject matter of solicitation\n",
      "Chunk 1: . Insurance is the subject matter of solicitation. Air Ambulance Cover In consideration of the payment of additional premium to Us, We will cover the expenses incurred on air ambulance services in respect of an Insured Person which are offered by a healthcare or an air ambulance service provider and which have been used during the Policy Period to transfer the Insured Person to a Hospital or transfer from one hospital to another with adequate emergency facilities for the provision of Emergency Care, provided that: i. Our maximum liability under this Benefit for any and all claims arising during the Policy Year will be restricted to the Sum insured as stated in the Policy Schedule; ii. The maximum distance of travel undertaken is 150 kms. In case of distance travelled is more than 150 kms, proportionate amount of expenses upto 150 kms shall be payable\n",
      "Chunk 2: . Example: If insured has travelled a distance of 300kms using an air ambulance we will pay 50% of the total cost or Sum Insured whichever is lower. (Eligibility/Actual distance travelled : 150kms/300kms = 0.5) iii. It is for a life threatening emergency health condition/s of the Insured Person which requires immediate and rapid ambulance transportation from the place where the Insured Person is situated at the time of requiring Emergency Care to a hospital provided that the transportation is for Medically Necessary Treatment, is certified in writing by a Medical Practitioner, and road ambulance services cannot be provided. iv. Such air ambulance providing the services, should be duly licensed to operate as such by a competent government Authority. v. This cover is limited to transportation from the area of emergency to a Hospital providing emergency care which is not available at the place of origin and from one medical centre to another. ; We will not cover: a\n",
      "Chunk 3: . ; We will not cover: a. Transfer of the Insured Person from one medical facility to another medical facility of similar capabilities which provides a similar level of care. b. Any transportation of the Insured Person from Hospital to the Insured Person’s residence after he/she has been discharged from the Hospital c. Any transportation or air ambulance expenses incurred outside the geographical scope of India. d. Attempt at suicide e. Injuries resulting from participation in acts of war or insurrection f. commission of unlawful acts g. Incidents involving use of drugs unless prescribed by a medical practitioner h. We have accepted a claim under Section II.A.1 in respect of the Insured Person for the same Accident/Illness for which air ambulance services were availed. i. We shall not be liable if Medically Necessary Treatment can be provided at the Hospital where the Insured Person is situated at the time of requiring Emergency Care\n",
      "Chunk 4: . Claims towards Air Ambulance expenses will be payable by mode of Reimbursement only Well Baby Well Mother- Add On Wordings Add On Wordings- Well Baby Well Mother Base Product UIN: EDLHLGP21462V032021 Add On UIN: EDLHLGA23009V012223 Edelweiss General Insurance Company Limited, Corporate Office: 5th Floor, Tower 3, Kohinoor City Mall, Kohinoor City, Kirol Road, Kurla (West), Mumbai - 400 070, Registered Office: Edelweiss House, Off CST Road, Kalina, Mumbai -400 098, IRDAI Regn. No.: 159, CIN: U66000MH2016PLC273758, Reach us on: 1800 12000, Email: support@edelweissinsurance.com, Website: www.edelweissinsurance.com, Issuing/Corporate Office: +91 22 4272 2200, Grievance Redressal Officer: +91 22 4931 4422, Dedicated Toll-Free Number for Grievance: 1800 120 216216. Trade logo displayed above belongs to Edelweiss Financial Services Limited and is used by Edelweiss General Insurance Company Limited under license. Insurance is the subject matter of solicitation\n",
      "Chunk 5: . Insurance is the subject matter of solicitation. Well mother Cover Covers routine medical care provided to an insured female (expectant mothers and mothers who have delivered new born baby), which includes routine preventive care services and immunizations (within the maternity hospitalization period), during the period as opted by insured and specified in the policy schedule • Routine Medical Care would include expenses recommended by a doctor and incurred on – Pharmacy, Diagnostics, Doctor Consultations and Therapy. • Routine Preventive Care Services will include expenses recommended by a doctor and incurred on – Pharmacy and Diagnostic Tests. The insured shall have option to opt for this cover for any one of the below mentioned period: i) At the onset of pregnancy and up to pre-hospitalization period for maternity. ii) At the onset of pregnancy and maternity hospitalization (only routine preventive care services and immunizations) up to first discharge from hospital\n",
      "Chunk 6: . iii) At the onset of pregnancy, maternity hospitalization (only routine preventive care services and immunizations) and until 30 days following birth of new born baby. We will not cover 1. Any infertility treatments 2. Any charges payable under the maternity section (if opted as an optional cover) of the policy Healthy baby expenses / well baby care expenses Cover for expenses incurred for a New born baby after the birth until first discharge from hospital. Covers routine medical care provided to a new born baby, which includes limited to appropriate customary examinations required to assess the integrity and basic functions of child’s organs and skeletal structure carried out immediately following birth, routine preventive care services and immunizations (within the hospitalization period). The sum insured limit shall be as opted for and specified in the policy schedule. For multiple born babies sum insured shall be subject to limit in place\n",
      "Chunk 7: . For multiple born babies sum insured shall be subject to limit in place. Routine Preventive Care Services will include expenses recommended by a doctor and incurred on – Pharmacy and Diagnostic Tests.\n"
     ]
    }
   ],
   "source": [
    "print(\"Length:\",len(ch_text))\n",
    "for i in range(len(ch_text)):\n",
    "    print(f\"Chunk {i}: {ch_text[i]}\")"
   ]
  }
 ],
 "metadata": {
  "kernelspec": {
   "display_name": "Python 3",
   "language": "python",
   "name": "python3"
  },
  "language_info": {
   "codemirror_mode": {
    "name": "ipython",
    "version": 3
   },
   "file_extension": ".py",
   "mimetype": "text/x-python",
   "name": "python",
   "nbconvert_exporter": "python",
   "pygments_lexer": "ipython3",
   "version": "3.13.3"
  }
 },
 "nbformat": 4,
 "nbformat_minor": 5
}
