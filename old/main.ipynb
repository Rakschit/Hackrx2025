{
 "cells": [
  {
   "cell_type": "code",
   "execution_count": 2,
   "id": "e8231865",
   "metadata": {},
   "outputs": [],
   "source": [
    "import fitz # pip install pymupdf\n",
    "import pytesseract # pip install pytesseract\n",
    "pytesseract.pytesseract.tesseract_cmd = r\"C:\\Program Files\\Tesseract-OCR\\tesseract.exe\"\n",
    "from PIL import Image # pip install pillow\n",
    "import io"
   ]
  },
  {
   "cell_type": "code",
   "execution_count": 4,
   "id": "18bdc41b",
   "metadata": {},
   "outputs": [
    {
     "name": "stdout",
     "output_type": "stream",
     "text": [
      "Well Baby Well Mother\n"
     ]
    }
   ],
   "source": [
    "def read_pdf(file):\n",
    "    doc = fitz.open(file)\n",
    "    text = \"\"\n",
    "    for page in doc:\n",
    "        page_text = page.get_text()\n",
    "\n",
    "        if len(page_text.strip()) == 0: # might be an image\n",
    "            pix = page.get_pixmap()\n",
    "            img = Image.open(io.BytesIO(pix.tobytes(\"png\")))\n",
    "            page_text = pytesseract.image_to_string(img)\n",
    "\n",
    "        text += page_text + \"\\n\"\n",
    "    return text\n",
    "\n",
    "pdf_text = read_pdf(\"docs/EDLHLGA23009V012223.pdf\")\n",
    "print(pdf_text[:21])\n"
   ]
  },
  {
   "cell_type": "code",
   "execution_count": 5,
   "id": "c10ea910",
   "metadata": {},
   "outputs": [
    {
     "name": "stdout",
     "output_type": "stream",
     "text": [
      "Total chunks: 9\n",
      "First chunk:\n",
      " sum insured shall be subject to limit in place. \n",
      "Routine Preventive Care Services will include expenses recommended by a doctor and incurred on – \n",
      "Pharmacy and Diagnostic Tests.\n"
     ]
    }
   ],
   "source": [
    "# Split chunks based on the doc length.\n",
    "# STEP 2:\n",
    "\n",
    "from langchain_text_splitters import RecursiveCharacterTextSplitter # pip install lanchain\n",
    "\n",
    "# Suppose pdf_text is your extracted text from Step 1\n",
    "text_splitter = RecursiveCharacterTextSplitter(\n",
    "    chunk_size=1000,      # size of each chunk\n",
    "    chunk_overlap=100,    # overlap so that important info isn't cut off\n",
    "    separators=[\"\\n\\n\", \"\\n\", \".\", \" \"]  # try to split on paragraphs/sentences\n",
    ")\n",
    "\n",
    "chunks = text_splitter.split_text(pdf_text)\n",
    "\n",
    "print(f\"Total chunks: {len(chunks)}\")\n",
    "print(\"First chunk:\\n\", chunks[8])"
   ]
  },
  {
   "cell_type": "code",
   "execution_count": 6,
   "id": "e60a2f89",
   "metadata": {},
   "outputs": [],
   "source": [
    "# STEP 3:\n",
    "# pip install sentence-transformers faiss-cpu\n",
    "from sentence_transformers import SentenceTransformer\n",
    "import faiss\n",
    "import numpy as np"
   ]
  },
  {
   "cell_type": "code",
   "execution_count": 7,
   "id": "5614be6f",
   "metadata": {},
   "outputs": [
    {
     "name": "stdout",
     "output_type": "stream",
     "text": [
      "Stored 9 chunks in FAISS.\n"
     ]
    },
    {
     "name": "stderr",
     "output_type": "stream",
     "text": [
      "c:\\Users\\Rakschit\\AppData\\Local\\Programs\\Python\\Python313\\Lib\\site-packages\\torch\\nn\\modules\\module.py:1762: FutureWarning: `encoder_attention_mask` is deprecated and will be removed in version 4.55.0 for `BertSdpaSelfAttention.forward`.\n",
      "  return forward_call(*args, **kwargs)\n"
     ]
    }
   ],
   "source": [
    "model = SentenceTransformer('all-MiniLM-L6-v2')\n",
    "\n",
    "embeddings = model.encode(chunks, convert_to_numpy=True)\n",
    "\n",
    "# Store embeddings in FAISS index\n",
    "dimension = embeddings.shape[1]  # length of each embedding vector\n",
    "index = faiss.IndexFlatL2(dimension)\n",
    "index.add(embeddings)\n",
    "\n",
    "# Save index and chunks for later use\n",
    "faiss.write_index(index, \"vector.index\")\n",
    "import pickle\n",
    "with open(\"chunks.pkl\", \"wb\") as f:\n",
    "    pickle.dump(chunks, f)\n",
    "\n",
    "print(f\"Stored {len(chunks)} chunks in FAISS.\")"
   ]
  },
  {
   "cell_type": "code",
   "execution_count": 8,
   "id": "89a0a810",
   "metadata": {},
   "outputs": [
    {
     "name": "stdout",
     "output_type": "stream",
     "text": [
      "Top relevant chunks:\n",
      "immunizations) up to first discharge from hospital. \n",
      "iii) At the onset of pregnancy, maternity hospitalization (only routine preventive care services and \n",
      "immunizations) and  until 30 days following birth of new born baby. \n",
      "We will not cover \n",
      "1. Any infertility treatments \n",
      "2. Any charges payable under the maternity section (if opted as an optional cover) of the policy \n",
      "  \n",
      "Healthy baby expenses / well baby care expenses  \n",
      "Cover for expenses incurred for a New born baby after the birth until first discharge from hospital.  \n",
      "Covers routine medical care provided to a new born baby, which includes limited to appropriate customary \n",
      "examinations required to assess the integrity and basic functions of child’s organs and skeletal structure \n",
      "carried out immediately following birth, routine preventive care services and immunizations (within the \n",
      "hospitalization period).  \n",
      "The sum insured limit shall be as opted for and specified in the policy schedule. For multiple born babies\n",
      "the subject matter of solicitation. \n",
      " \n",
      " \n",
      "Well mother Cover  \n",
      "Covers routine medical care provided to an insured female (expectant mothers and mothers who have \n",
      "delivered new born baby), which includes routine preventive care services and immunizations (within the \n",
      "maternity hospitalization period), during the period as opted by insured and specified in the policy \n",
      "schedule \n",
      "• \n",
      "Routine Medical Care would include expenses recommended by a doctor and incurred on – \n",
      "Pharmacy, Diagnostics, Doctor Consultations and Therapy. \n",
      "• \n",
      "Routine Preventive Care Services will include expenses recommended by a doctor and incurred \n",
      "on – Pharmacy and Diagnostic Tests. \n",
      "The insured shall have option to opt for this cover for any one of the below mentioned period: \n",
      "i) At the onset of pregnancy and up to pre-hospitalization period for maternity. \n",
      "ii)  At the onset of pregnancy and maternity hospitalization (only routine preventive care services and \n",
      "immunizations) up to first discharge from hospital.\n",
      "another. ;  \n",
      "We will not cover:  \n",
      "a. Transfer of the Insured Person from one medical facility to another medical facility of \n",
      "similar capabilities which provides a similar level of care. \n",
      "b. Any transportation of the Insured Person from Hospital to the Insured Person’s \n",
      "residence after he/she has been discharged from the Hospital  \n",
      "c. Any transportation or air ambulance expenses incurred outside the geographical scope \n",
      "of India.  \n",
      "d. Attempt at suicide \n",
      "e. Injuries resulting from participation in acts of war or insurrection \n",
      "f. commission of unlawful acts \n",
      "g. Incidents involving use of drugs unless prescribed by a medical practitioner \n",
      "h. We have accepted a claim under Section II.A.1 in respect of the Insured Person for the \n",
      "same Accident/Illness for which air ambulance services were availed.  \n",
      "i. \n",
      "We shall not be liable if Medically Necessary Treatment can be provided at the Hospital \n",
      "where the Insured Person is situated at the time of requiring Emergency Care.\n",
      "sum insured shall be subject to limit in place. \n",
      "Routine Preventive Care Services will include expenses recommended by a doctor and incurred on – \n",
      "Pharmacy and Diagnostic Tests.\n",
      "Well Baby Well Mother- Add On Wordings \n",
      "Add On Wordings- Well Baby Well Mother \n",
      "Base Product UIN: EDLHLGP21462V032021 \n",
      "Add On UIN: EDLHLGA23009V012223 \n",
      "Edelweiss General Insurance Company Limited, \n",
      "Corporate Office: 5th Floor, Tower 3, Kohinoor City Mall, Kohinoor City, Kirol Road, Kurla (West), Mumbai - 400 070, Registered Office: \n",
      "Edelweiss House, Off CST Road, Kalina, Mumbai -400 098, IRDAI Regn. No.: 159, CIN: U66000MH2016PLC273758, Reach us on: 1800 \n",
      "12000, Email: support@edelweissinsurance.com, Website: www.edelweissinsurance.com, Issuing/Corporate Office: +91 22 4272 2200, \n",
      "Grievance Redressal Officer: +91 22 4931 4422, Dedicated Toll-Free Number for Grievance: 1800 120 216216. Trade logo displayed above \n",
      "belongs to Edelweiss Financial Services Limited and is used by Edelweiss General Insurance Company Limited under license. Insurance is \n",
      "the subject matter of solicitation. \n",
      " \n",
      " \n",
      " \n",
      " \n",
      "Air Ambulance Cover\n"
     ]
    }
   ],
   "source": [
    "# Load index and chunks\n",
    "index = faiss.read_index(\"vector.index\")\n",
    "with open(\"chunks.pkl\", \"rb\") as f:\n",
    "    chunks = pickle.load(f)\n",
    "\n",
    "# Convert query to embedding\n",
    "query = \"knee surgery in Pune 3 months old policy\"\n",
    "query_embedding = model.encode([query], convert_to_numpy=True)\n",
    "\n",
    "# Search\n",
    "k = 5  # top 5 most relevant chunks\n",
    "distances, indices = index.search(query_embedding, k)\n",
    "\n",
    "print(\"Top relevant chunks:\")\n",
    "for i in indices[0]:\n",
    "    print(chunks[i])"
   ]
  },
  {
   "cell_type": "code",
   "execution_count": 9,
   "id": "461dcbed",
   "metadata": {},
   "outputs": [
    {
     "ename": "NameError",
     "evalue": "name 'result' is not defined",
     "output_type": "error",
     "traceback": [
      "\u001b[31m---------------------------------------------------------------------------\u001b[39m",
      "\u001b[31mNameError\u001b[39m                                 Traceback (most recent call last)",
      "\u001b[36mCell\u001b[39m\u001b[36m \u001b[39m\u001b[32mIn[9]\u001b[39m\u001b[32m, line 38\u001b[39m\n\u001b[32m     21\u001b[39m context = \u001b[33m\"\u001b[39m\u001b[38;5;130;01m\\n\u001b[39;00m\u001b[38;5;130;01m\\n\u001b[39;00m\u001b[33m\"\u001b[39m.join(relevant_clauses)\n\u001b[32m     22\u001b[39m prompt = \u001b[33mf\u001b[39m\u001b[33m\"\"\"\u001b[39m\n\u001b[32m     23\u001b[39m \u001b[33mYou are an insurance policy assistant.\u001b[39m\n\u001b[32m     24\u001b[39m \n\u001b[32m   (...)\u001b[39m\u001b[32m     35\u001b[39m \u001b[33m4. Return JSON with fields: decision, amount (if any), justification, used_clauses.\u001b[39m\n\u001b[32m     36\u001b[39m \u001b[33m\"\"\"\u001b[39m\n\u001b[32m---> \u001b[39m\u001b[32m38\u001b[39m \u001b[38;5;28mprint\u001b[39m(\u001b[33m\"\u001b[39m\u001b[33mLLM Output:\u001b[39m\u001b[38;5;130;01m\\n\u001b[39;00m\u001b[33m\"\u001b[39m, \u001b[43mresult\u001b[49m)\n",
      "\u001b[31mNameError\u001b[39m: name 'result' is not defined"
     ]
    }
   ],
   "source": [
    "import requests\n",
    "from sentence_transformers import SentenceTransformer\n",
    "import faiss, pickle\n",
    "\n",
    "# === Load your FAISS index and chunks (from previous steps) ===\n",
    "index = faiss.read_index(\"vector.index\")\n",
    "with open(\"chunks.pkl\", \"rb\") as f:\n",
    "    chunks = pickle.load(f)\n",
    "\n",
    "embed_model = SentenceTransformer('all-MiniLM-L6-v2')\n",
    "\n",
    "# === Step 1: Query from user ===\n",
    "query = \"46-year-old male, knee surgery in Pune, 3-month-old insurance policy\"\n",
    "\n",
    "# === Step 2: Retrieve relevant text ===\n",
    "query_embedding = embed_model.encode([query], convert_to_numpy=True)\n",
    "distances, indices = index.search(query_embedding, 5)\n",
    "relevant_clauses = [chunks[i] for i in indices[0]]\n",
    "\n",
    "# === Step 3: Build prompt for reasoning ===\n",
    "context = \"\\n\\n\".join(relevant_clauses)\n",
    "prompt = f\"\"\"\n",
    "You are an insurance policy assistant.\n",
    "\n",
    "User query:\n",
    "{query}\n",
    "\n",
    "Relevant clauses:\n",
    "{context}\n",
    "\n",
    "Follow these steps:\n",
    "1. Extract details from the query: age, gender, procedure, location, policy duration.\n",
    "2. Decide whether the claim is approved or rejected.\n",
    "3. Justify the decision with references to specific clauses.\n",
    "4. Return JSON with fields: decision, amount (if any), justification, used_clauses.\n",
    "\"\"\"\n",
    "\n",
    "print(\"LLM Output:\\n\", result)\n"
   ]
  },
  {
   "cell_type": "code",
   "execution_count": 15,
   "id": "dd30e9b5",
   "metadata": {},
   "outputs": [],
   "source": [
    "from fastapi import FastAPI\n",
    "from pydantic import BaseModel\n",
    "import requests, faiss, pickle\n",
    "from sentence_transformers import SentenceTransformer\n",
    "\n",
    "# Load everything at startup\n",
    "index = faiss.read_index(\"vector.index\")\n",
    "with open(\"chunks.pkl\", \"rb\") as f:\n",
    "    chunks = pickle.load(f)\n",
    "embed_model = SentenceTransformer('all-MiniLM-L6-v2')\n",
    "\n",
    "app = FastAPI()\n",
    "\n",
    "class QueryRequest(BaseModel):\n",
    "    query: str\n",
    "\n",
    "@app.post(\"/ask\")\n",
    "def ask(req: QueryRequest):\n",
    "    # 1. Find relevant text\n",
    "    q_emb = embed_model.encode([req.query], convert_to_numpy=True)\n",
    "    _, indices = index.search(q_emb, 5)\n",
    "    relevant_clauses = [chunks[i] for i in indices[0]]\n",
    "\n",
    "    # 2. Build prompt\n",
    "    context = \"\\n\\n\".join(relevant_clauses)\n",
    "    prompt = f\"\"\"\n",
    "    User query:\n",
    "    {req.query}\n",
    "\n",
    "    Relevant clauses:\n",
    "    {context}\n",
    "\n",
    "    Instructions:\n",
    "    1. Extract details (age, gender, procedure, location, policy duration).\n",
    "    2. Decide approval/rejection.\n",
    "    3. Justify using clauses.\n",
    "    4. Return valid JSON with: decision, amount, justification, used_clauses.\n",
    "    \"\"\"\n",
    "\n",
    "    # 3. Call local Mistral via Ollama\n",
    "    resp = requests.post(\n",
    "        \"http://localhost:11434/api/generate\",\n",
    "        json={\"model\": \"mistral\", \"prompt\": prompt, \"stream\": False}\n",
    "    )\n",
    "    return {\"result\": resp.json()[\"response\"]}\n"
   ]
  },
  {
   "cell_type": "code",
   "execution_count": null,
   "id": "f1be30fc",
   "metadata": {},
   "outputs": [],
   "source": []
  },
  {
   "cell_type": "code",
   "execution_count": null,
   "id": "0d51e331",
   "metadata": {},
   "outputs": [],
   "source": []
  },
  {
   "cell_type": "code",
   "execution_count": 1,
   "id": "2209adb4",
   "metadata": {},
   "outputs": [
    {
     "name": "stdout",
     "output_type": "stream",
     "text": [
      "Starting API on http://127.0.0.1:8000\n"
     ]
    },
    {
     "ename": "RuntimeError",
     "evalue": "asyncio.run() cannot be called from a running event loop",
     "output_type": "error",
     "traceback": [
      "\u001b[31m---------------------------------------------------------------------------\u001b[39m",
      "\u001b[31mRuntimeError\u001b[39m                              Traceback (most recent call last)",
      "\u001b[36mCell\u001b[39m\u001b[36m \u001b[39m\u001b[32mIn[1]\u001b[39m\u001b[32m, line 13\u001b[39m\n\u001b[32m     11\u001b[39m port = \u001b[32m8000\u001b[39m  \u001b[38;5;66;03m# You can change this\u001b[39;00m\n\u001b[32m     12\u001b[39m \u001b[38;5;28mprint\u001b[39m(\u001b[33mf\u001b[39m\u001b[33m\"\u001b[39m\u001b[33mStarting API on http://127.0.0.1:\u001b[39m\u001b[38;5;132;01m{\u001b[39;00mport\u001b[38;5;132;01m}\u001b[39;00m\u001b[33m\"\u001b[39m)\n\u001b[32m---> \u001b[39m\u001b[32m13\u001b[39m \u001b[43muvicorn\u001b[49m\u001b[43m.\u001b[49m\u001b[43mrun\u001b[49m\u001b[43m(\u001b[49m\u001b[43mapp\u001b[49m\u001b[43m,\u001b[49m\u001b[43m \u001b[49m\u001b[43mhost\u001b[49m\u001b[43m=\u001b[49m\u001b[33;43m\"\u001b[39;49m\u001b[33;43m127.0.0.1\u001b[39;49m\u001b[33;43m\"\u001b[39;49m\u001b[43m,\u001b[49m\u001b[43m \u001b[49m\u001b[43mport\u001b[49m\u001b[43m=\u001b[49m\u001b[43mport\u001b[49m\u001b[43m)\u001b[49m\n",
      "\u001b[36mFile \u001b[39m\u001b[32mc:\\Users\\Rakschit\\AppData\\Local\\Programs\\Python\\Python313\\Lib\\site-packages\\uvicorn\\main.py:580\u001b[39m, in \u001b[36mrun\u001b[39m\u001b[34m(app, host, port, uds, fd, loop, http, ws, ws_max_size, ws_max_queue, ws_ping_interval, ws_ping_timeout, ws_per_message_deflate, lifespan, interface, reload, reload_dirs, reload_includes, reload_excludes, reload_delay, workers, env_file, log_config, log_level, access_log, proxy_headers, server_header, date_header, forwarded_allow_ips, root_path, limit_concurrency, backlog, limit_max_requests, timeout_keep_alive, timeout_graceful_shutdown, ssl_keyfile, ssl_certfile, ssl_keyfile_password, ssl_version, ssl_cert_reqs, ssl_ca_certs, ssl_ciphers, headers, use_colors, app_dir, factory, h11_max_incomplete_event_size)\u001b[39m\n\u001b[32m    578\u001b[39m         Multiprocess(config, target=server.run, sockets=[sock]).run()\n\u001b[32m    579\u001b[39m     \u001b[38;5;28;01melse\u001b[39;00m:\n\u001b[32m--> \u001b[39m\u001b[32m580\u001b[39m         \u001b[43mserver\u001b[49m\u001b[43m.\u001b[49m\u001b[43mrun\u001b[49m\u001b[43m(\u001b[49m\u001b[43m)\u001b[49m\n\u001b[32m    581\u001b[39m \u001b[38;5;28;01mexcept\u001b[39;00m \u001b[38;5;167;01mKeyboardInterrupt\u001b[39;00m:\n\u001b[32m    582\u001b[39m     \u001b[38;5;28;01mpass\u001b[39;00m  \u001b[38;5;66;03m# pragma: full coverage\u001b[39;00m\n",
      "\u001b[36mFile \u001b[39m\u001b[32mc:\\Users\\Rakschit\\AppData\\Local\\Programs\\Python\\Python313\\Lib\\site-packages\\uvicorn\\server.py:67\u001b[39m, in \u001b[36mServer.run\u001b[39m\u001b[34m(self, sockets)\u001b[39m\n\u001b[32m     65\u001b[39m \u001b[38;5;28;01mdef\u001b[39;00m\u001b[38;5;250m \u001b[39m\u001b[34mrun\u001b[39m(\u001b[38;5;28mself\u001b[39m, sockets: \u001b[38;5;28mlist\u001b[39m[socket.socket] | \u001b[38;5;28;01mNone\u001b[39;00m = \u001b[38;5;28;01mNone\u001b[39;00m) -> \u001b[38;5;28;01mNone\u001b[39;00m:\n\u001b[32m     66\u001b[39m     \u001b[38;5;28mself\u001b[39m.config.setup_event_loop()\n\u001b[32m---> \u001b[39m\u001b[32m67\u001b[39m     \u001b[38;5;28;01mreturn\u001b[39;00m \u001b[43masyncio\u001b[49m\u001b[43m.\u001b[49m\u001b[43mrun\u001b[49m\u001b[43m(\u001b[49m\u001b[38;5;28;43mself\u001b[39;49m\u001b[43m.\u001b[49m\u001b[43mserve\u001b[49m\u001b[43m(\u001b[49m\u001b[43msockets\u001b[49m\u001b[43m=\u001b[49m\u001b[43msockets\u001b[49m\u001b[43m)\u001b[49m\u001b[43m)\u001b[49m\n",
      "\u001b[36mFile \u001b[39m\u001b[32mc:\\Users\\Rakschit\\AppData\\Local\\Programs\\Python\\Python313\\Lib\\asyncio\\runners.py:191\u001b[39m, in \u001b[36mrun\u001b[39m\u001b[34m(main, debug, loop_factory)\u001b[39m\n\u001b[32m    161\u001b[39m \u001b[38;5;250m\u001b[39m\u001b[33;03m\"\"\"Execute the coroutine and return the result.\u001b[39;00m\n\u001b[32m    162\u001b[39m \n\u001b[32m    163\u001b[39m \u001b[33;03mThis function runs the passed coroutine, taking care of\u001b[39;00m\n\u001b[32m   (...)\u001b[39m\u001b[32m    187\u001b[39m \u001b[33;03m    asyncio.run(main())\u001b[39;00m\n\u001b[32m    188\u001b[39m \u001b[33;03m\"\"\"\u001b[39;00m\n\u001b[32m    189\u001b[39m \u001b[38;5;28;01mif\u001b[39;00m events._get_running_loop() \u001b[38;5;129;01mis\u001b[39;00m \u001b[38;5;129;01mnot\u001b[39;00m \u001b[38;5;28;01mNone\u001b[39;00m:\n\u001b[32m    190\u001b[39m     \u001b[38;5;66;03m# fail fast with short traceback\u001b[39;00m\n\u001b[32m--> \u001b[39m\u001b[32m191\u001b[39m     \u001b[38;5;28;01mraise\u001b[39;00m \u001b[38;5;167;01mRuntimeError\u001b[39;00m(\n\u001b[32m    192\u001b[39m         \u001b[33m\"\u001b[39m\u001b[33masyncio.run() cannot be called from a running event loop\u001b[39m\u001b[33m\"\u001b[39m)\n\u001b[32m    194\u001b[39m \u001b[38;5;28;01mwith\u001b[39;00m Runner(debug=debug, loop_factory=loop_factory) \u001b[38;5;28;01mas\u001b[39;00m runner:\n\u001b[32m    195\u001b[39m     \u001b[38;5;28;01mreturn\u001b[39;00m runner.run(main)\n",
      "\u001b[31mRuntimeError\u001b[39m: asyncio.run() cannot be called from a running event loop"
     ]
    }
   ],
   "source": [
    "\n",
    "from fastapi import FastAPI\n",
    "import uvicorn\n",
    "\n",
    "app = FastAPI()\n",
    "\n",
    "@app.get(\"/\")\n",
    "def read_root():\n",
    "    return {\"message\": \"Hello! API is running.\"}\n",
    "\n",
    "if __name__ == \"__main__\":\n",
    "    port = 8000  # You can change this\n",
    "    print(f\"Starting API on http://127.0.0.1:{port}\")\n",
    "    uvicorn.run(app, host=\"127.0.0.1\", port=port)"
   ]
  },
  {
   "cell_type": "code",
   "execution_count": null,
   "id": "6d38ab62",
   "metadata": {},
   "outputs": [],
   "source": []
  }
 ],
 "metadata": {
  "kernelspec": {
   "display_name": "Python 3",
   "language": "python",
   "name": "python3"
  },
  "language_info": {
   "codemirror_mode": {
    "name": "ipython",
    "version": 3
   },
   "file_extension": ".py",
   "mimetype": "text/x-python",
   "name": "python",
   "nbconvert_exporter": "python",
   "pygments_lexer": "ipython3",
   "version": "3.13.3"
  }
 },
 "nbformat": 4,
 "nbformat_minor": 5
}
